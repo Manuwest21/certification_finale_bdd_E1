{
 "cells": [
  {
   "cell_type": "code",
   "execution_count": 11,
   "metadata": {},
   "outputs": [
    {
     "ename": "ModuleNotFoundError",
     "evalue": "No module named 'pyodbc'",
     "output_type": "error",
     "traceback": [
      "\u001b[0;31m---------------------------------------------------------------------------\u001b[0m",
      "\u001b[0;31mModuleNotFoundError\u001b[0m                       Traceback (most recent call last)",
      "\u001b[1;32m/home/utilisateur/Documents/all_projects/rendu_sncf/lost_translation_sncf/test_connect.ipynb Cell 1\u001b[0m line \u001b[0;36m1\n\u001b[0;32m----> <a href='vscode-notebook-cell:/home/utilisateur/Documents/all_projects/rendu_sncf/lost_translation_sncf/test_connect.ipynb#W0sZmlsZQ%3D%3D?line=0'>1</a>\u001b[0m \u001b[39mimport\u001b[39;00m \u001b[39mpyodbc\u001b[39;00m\n\u001b[1;32m      <a href='vscode-notebook-cell:/home/utilisateur/Documents/all_projects/rendu_sncf/lost_translation_sncf/test_connect.ipynb#W0sZmlsZQ%3D%3D?line=1'>2</a>\u001b[0m \u001b[39mimport\u001b[39;00m \u001b[39mpandas\u001b[39;00m \u001b[39mas\u001b[39;00m \u001b[39mpd\u001b[39;00m\n\u001b[1;32m      <a href='vscode-notebook-cell:/home/utilisateur/Documents/all_projects/rendu_sncf/lost_translation_sncf/test_connect.ipynb#W0sZmlsZQ%3D%3D?line=3'>4</a>\u001b[0m \u001b[39m# Se connecter à la base de données Azure SQL\u001b[39;00m\n",
      "\u001b[0;31mModuleNotFoundError\u001b[0m: No module named 'pyodbc'"
     ]
    }
   ],
   "source": [
    "import pyodbc\n",
    "import pandas as pd\n",
    "\n",
    "# Se connecter à la base de données Azure SQL\n",
    "connection = pyodbc.connect(\n",
    "    'DRIVER={ODBC Driver 18 for SQL Server};'\n",
    "    'SERVER=projet-affluence-cinema-mlrecap.database.windows.net;'\n",
    "    'DATABASE=BDD_boxoffice;'\n",
    "    'UID=project_affluence_cinema;'\n",
    "    'PWD=*Boxoffice1;'\n",
    ")\n",
    "\n",
    "# Exécuter la requête SQL\n",
    "query = \"SELECT TOP 5 id, titre, nbre_entrees FROM [dbo].[bdd_model_ML_cat]\"\n",
    "data_frame = pd.read_sql_query(query, connection)\n",
    "\n",
    "# Fermer la connexion\n",
    "connection.close()"
   ]
  },
  {
   "cell_type": "code",
   "execution_count": null,
   "metadata": {},
   "outputs": [],
   "source": [
    "server='projet-affluence-cinema-mlrecap.database.windows.net'\n",
    "database='BDD_boxoffice'\n",
    "username = 'project_affluence_cinema'\n",
    "password = os.getenv('password')\n",
    "driver = 'ODBC Driver 18 for SQL Server'"
   ]
  },
  {
   "cell_type": "code",
   "execution_count": null,
   "metadata": {},
   "outputs": [],
   "source": []
  },
  {
   "cell_type": "code",
   "execution_count": null,
   "metadata": {},
   "outputs": [],
   "source": []
  }
 ],
 "metadata": {
  "kernelspec": {
   "display_name": "proj_chef",
   "language": "python",
   "name": "python3"
  },
  "language_info": {
   "codemirror_mode": {
    "name": "ipython",
    "version": 3
   },
   "file_extension": ".py",
   "mimetype": "text/x-python",
   "name": "python",
   "nbconvert_exporter": "python",
   "pygments_lexer": "ipython3",
   "version": "3.10.12"
  }
 },
 "nbformat": 4,
 "nbformat_minor": 2
}
