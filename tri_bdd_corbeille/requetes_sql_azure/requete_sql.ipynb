{
 "cells": [
  {
   "cell_type": "code",
   "execution_count": null,
   "metadata": {},
   "outputs": [],
   "source": []
  },
  {
   "cell_type": "code",
   "execution_count": null,
   "metadata": {},
   "outputs": [],
   "source": [
    "import pyodbc\n",
    "import os\n",
    "from dotenv import load_dotenv\n",
    "\n",
    "# Charger les variables d'environnement\n",
    "load_dotenv()\n",
    "\n",
    "# Connexion à la base de données Azure SQL\n",
    "username = os.getenv('DB_USERNAME')\n",
    "password = os.getenv('DB_PASSWORD')\n",
    "server = os.getenv('DB_SERVER')\n",
    "database = os.getenv('DB_DATABASE')\n",
    "driver = os.getenv('DB_DRIVER')\n",
    "\n",
    "conn_str = f'DRIVER={driver};SERVER={server};DATABASE={database};UID={username};PWD={password}'\n",
    "conn = pyodbc.connect(conn_str)\n",
    "cursor = conn.cursor()\n",
    "\n",
    "# Requête pour calculer la somme de 'poids_pondere' lorsque 'cloud' < 50\n",
    "query = \"\"\"\n",
    "    SELECT AVG(o.poids_pondere) AS somme_poids_pondere\n",
    "    FROM objets_trouves9 o\n",
    "    INNER JOIN lumiere9 l ON o.date = l.date\n",
    "    WHERE l.cloud < 65 AND l.sun >8;\n",
    "\"\"\"\n",
    "\n",
    "# Exécuter la requête\n",
    "cursor.execute(query)\n",
    "\n",
    "# Récupérer le résultat\n",
    "result = cursor.fetchone()\n",
    "\n",
    "# Afficher le résultat\n",
    "if result:\n",
    "    print(f\"La somme des poids pondérés pour les jours où le cloud est inférieur à 50 est : {result.somme_poids_pondere}\")\n",
    "\n",
    "# Fermer la connexion\n",
    "conn.close()\n"
   ]
  },
  {
   "cell_type": "code",
   "execution_count": null,
   "metadata": {},
   "outputs": [
    {
     "name": "stdout",
     "output_type": "stream",
     "text": [
      "La somme des poids pondérés pour les jours où le cloud est inférieur à 50 est : 458.6099999999243\n"
     ]
    }
   ],
   "source": [
    "import pyodbc\n",
    "import os\n",
    "from dotenv import load_dotenv\n",
    "\n",
    "# Charger les variables d'environnement\n",
    "load_dotenv()\n",
    "\n",
    "# Connexion à la base de données Azure SQL\n",
    "username = os.getenv('DB_USERNAME')\n",
    "password = os.getenv('DB_PASSWORD')\n",
    "server = os.getenv('DB_SERVER')\n",
    "database = os.getenv('DB_DATABASE')\n",
    "driver = os.getenv('DB_DRIVER')\n",
    "\n",
    "conn_str = f'DRIVER={driver};SERVER={server};DATABASE={database};UID={username};PWD={password}'\n",
    "conn = pyodbc.connect(conn_str)\n",
    "cursor = conn.cursor()\n",
    "\n",
    "# Requête pour calculer la somme de 'poids_pondere' lorsque 'cloud' < 50\n",
    "query = \"\"\"\n",
    "    SELECT AVG(o.poids_pondere) AS somme_poids_pondere\n",
    "    FROM objets_trouves9 o\n",
    "    INNER JOIN lumiere9 l ON o.date = l.date\n",
    "    WHERE l.cloud < 65 AND l.sun >8;\n",
    "\"\"\"\n",
    "\n",
    "# Exécuter la requête\n",
    "cursor.execute(query)\n",
    "\n",
    "# Récupérer le résultat\n",
    "result = cursor.fetchone()\n",
    "\n",
    "# Afficher le résultat\n",
    "if result:\n",
    "    print(f\"La somme des poids pondérés pour les jours où le cloud est inférieur à 50 est : {result.somme_poids_pondere}\")\n",
    "\n",
    "# Fermer la connexion\n",
    "conn.close()\n"
   ]
  },
  {
   "cell_type": "code",
   "execution_count": null,
   "metadata": {},
   "outputs": [
    {
     "name": "stdout",
     "output_type": "stream",
     "text": [
      "La somme des poids pondérés pour les jours où le cloud est inférieur à 30 est : 20.51000000000014\n"
     ]
    }
   ],
   "source": [
    "import pyodbc\n",
    "import os\n",
    "from dotenv import load_dotenv\n",
    "\n",
    "# Charger les variables d'environnement\n",
    "load_dotenv()\n",
    "\n",
    "# Connexion à la base de données Azure SQL\n",
    "username = os.getenv('DB_USERNAME')\n",
    "password = os.getenv('DB_PASSWORD')\n",
    "server = os.getenv('DB_SERVER')\n",
    "database = os.getenv('DB_DATABASE')\n",
    "driver = os.getenv('DB_DRIVER')\n",
    "\n",
    "conn_str = f'DRIVER={driver};SERVER={server};DATABASE={database};UID={username};PWD={password}'\n",
    "conn = pyodbc.connect(conn_str)\n",
    "cursor = conn.cursor()\n",
    "\n",
    "# Requête pour calculer la somme de 'poids_pondere' lorsque 'cloud' < 50\n",
    "query = \"\"\"\n",
    "    SELECT SUM(o.poids_pondere) AS somme_poids_pondere\n",
    "    FROM objets_trouves9 o\n",
    "    INNER JOIN lumiere9 l ON o.date = l.date\n",
    "    WHERE l.cloud > 85 AND l.sun < 3;\n",
    "\"\"\"\n",
    "\n",
    "# Exécuter la requête\n",
    "cursor.execute(query)\n",
    "\n",
    "# Récupérer le résultat\n",
    "result = cursor.fetchone()\n",
    "\n",
    "# Afficher le résultat\n",
    "if result:\n",
    "    print(f\"La somme des poids pondérés pour les jours où le cloud est inférieur à 30 est : {result.somme_poids_pondere}\")\n",
    "\n",
    "# Fermer la connexion\n",
    "conn.close()"
   ]
  },
  {
   "cell_type": "code",
   "execution_count": null,
   "metadata": {},
   "outputs": [],
   "source": []
  }
 ],
 "metadata": {
  "kernelspec": {
   "display_name": "api",
   "language": "python",
   "name": "python3"
  },
  "language_info": {
   "codemirror_mode": {
    "name": "ipython",
    "version": 3
   },
   "file_extension": ".py",
   "mimetype": "text/x-python",
   "name": "python",
   "nbconvert_exporter": "python",
   "pygments_lexer": "ipython3",
   "version": "3.11.9"
  }
 },
 "nbformat": 4,
 "nbformat_minor": 2
}
