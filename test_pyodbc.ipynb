{
 "cells": [
  {
   "cell_type": "code",
   "execution_count": 1,
   "metadata": {},
   "outputs": [
    {
     "ename": "SystemError",
     "evalue": "<class 'pyodbc.Error'> returned a result with an exception set",
     "output_type": "error",
     "traceback": [
      "\u001b[0;31m---------------------------------------------------------------------------\u001b[0m",
      "\u001b[0;31mKeyboardInterrupt\u001b[0m                         Traceback (most recent call last)",
      "File \u001b[0;32m~/miniconda3/envs/bdd/lib/python3.10/encodings/utf_16_le.py:15\u001b[0m, in \u001b[0;36mdecode\u001b[0;34m(input, errors)\u001b[0m\n\u001b[1;32m     13\u001b[0m encode \u001b[39m=\u001b[39m codecs\u001b[39m.\u001b[39mutf_16_le_encode\n\u001b[0;32m---> 15\u001b[0m \u001b[39mdef\u001b[39;00m \u001b[39mdecode\u001b[39m(\u001b[39minput\u001b[39m, errors\u001b[39m=\u001b[39m\u001b[39m'\u001b[39m\u001b[39mstrict\u001b[39m\u001b[39m'\u001b[39m):\n\u001b[1;32m     16\u001b[0m     \u001b[39mreturn\u001b[39;00m codecs\u001b[39m.\u001b[39mutf_16_le_decode(\u001b[39minput\u001b[39m, errors, \u001b[39mTrue\u001b[39;00m)\n",
      "\u001b[0;31mKeyboardInterrupt\u001b[0m: ",
      "\nThe above exception was the direct cause of the following exception:\n",
      "\u001b[0;31mKeyboardInterrupt\u001b[0m                         Traceback (most recent call last)",
      "\u001b[0;31mKeyboardInterrupt\u001b[0m: decoding with 'utf-16le' codec failed (KeyboardInterrupt: )",
      "\nThe above exception was the direct cause of the following exception:\n",
      "\u001b[0;31mSystemError\u001b[0m                               Traceback (most recent call last)",
      "\u001b[1;32m/home/utilisateur/Documents/all_projects/rendu_sncf/lost_translation_sncf/test_pyodbc.ipynb Cell 1\u001b[0m line \u001b[0;36m5\n\u001b[1;32m      <a href='vscode-notebook-cell:/home/utilisateur/Documents/all_projects/rendu_sncf/lost_translation_sncf/test_pyodbc.ipynb#W0sZmlsZQ%3D%3D?line=1'>2</a>\u001b[0m \u001b[39mimport\u001b[39;00m \u001b[39mpandas\u001b[39;00m \u001b[39mas\u001b[39;00m \u001b[39mpd\u001b[39;00m\n\u001b[1;32m      <a href='vscode-notebook-cell:/home/utilisateur/Documents/all_projects/rendu_sncf/lost_translation_sncf/test_pyodbc.ipynb#W0sZmlsZQ%3D%3D?line=3'>4</a>\u001b[0m \u001b[39m# Se connecter à la base de données Azure SQL\u001b[39;00m\n\u001b[0;32m----> <a href='vscode-notebook-cell:/home/utilisateur/Documents/all_projects/rendu_sncf/lost_translation_sncf/test_pyodbc.ipynb#W0sZmlsZQ%3D%3D?line=4'>5</a>\u001b[0m connection \u001b[39m=\u001b[39m pyodbc\u001b[39m.\u001b[39;49mconnect(\n\u001b[1;32m      <a href='vscode-notebook-cell:/home/utilisateur/Documents/all_projects/rendu_sncf/lost_translation_sncf/test_pyodbc.ipynb#W0sZmlsZQ%3D%3D?line=5'>6</a>\u001b[0m     \u001b[39m'\u001b[39;49m\u001b[39mDRIVER=\u001b[39;49m\u001b[39m{\u001b[39;49m\u001b[39mODBC Driver 18 for SQL Server};\u001b[39;49m\u001b[39m'\u001b[39;49m\n\u001b[1;32m      <a href='vscode-notebook-cell:/home/utilisateur/Documents/all_projects/rendu_sncf/lost_translation_sncf/test_pyodbc.ipynb#W0sZmlsZQ%3D%3D?line=6'>7</a>\u001b[0m     \u001b[39m'\u001b[39;49m\u001b[39mSERVER=projet-affluence-cinema-mlrecap.database.windows.net;\u001b[39;49m\u001b[39m'\u001b[39;49m\n\u001b[1;32m      <a href='vscode-notebook-cell:/home/utilisateur/Documents/all_projects/rendu_sncf/lost_translation_sncf/test_pyodbc.ipynb#W0sZmlsZQ%3D%3D?line=7'>8</a>\u001b[0m     \u001b[39m'\u001b[39;49m\u001b[39mDATABASE=BDD_boxoffice;\u001b[39;49m\u001b[39m'\u001b[39;49m\n\u001b[1;32m      <a href='vscode-notebook-cell:/home/utilisateur/Documents/all_projects/rendu_sncf/lost_translation_sncf/test_pyodbc.ipynb#W0sZmlsZQ%3D%3D?line=8'>9</a>\u001b[0m     \u001b[39m'\u001b[39;49m\u001b[39mUID=project_affluence_cinema;\u001b[39;49m\u001b[39m'\u001b[39;49m\n\u001b[1;32m     <a href='vscode-notebook-cell:/home/utilisateur/Documents/all_projects/rendu_sncf/lost_translation_sncf/test_pyodbc.ipynb#W0sZmlsZQ%3D%3D?line=9'>10</a>\u001b[0m     \u001b[39m'\u001b[39;49m\u001b[39mPWD=*Boxoffice1;\u001b[39;49m\u001b[39m'\u001b[39;49m\n\u001b[1;32m     <a href='vscode-notebook-cell:/home/utilisateur/Documents/all_projects/rendu_sncf/lost_translation_sncf/test_pyodbc.ipynb#W0sZmlsZQ%3D%3D?line=10'>11</a>\u001b[0m )\n\u001b[1;32m     <a href='vscode-notebook-cell:/home/utilisateur/Documents/all_projects/rendu_sncf/lost_translation_sncf/test_pyodbc.ipynb#W0sZmlsZQ%3D%3D?line=12'>13</a>\u001b[0m \u001b[39m# Exécuter la requête SQL\u001b[39;00m\n\u001b[1;32m     <a href='vscode-notebook-cell:/home/utilisateur/Documents/all_projects/rendu_sncf/lost_translation_sncf/test_pyodbc.ipynb#W0sZmlsZQ%3D%3D?line=13'>14</a>\u001b[0m query \u001b[39m=\u001b[39m \u001b[39m\"\u001b[39m\u001b[39mSELECT TOP 5 id, titre, nbre_entrees FROM [dbo].[bdd_model_ML_cat]\u001b[39m\u001b[39m\"\u001b[39m\n",
      "\u001b[0;31mSystemError\u001b[0m: <class 'pyodbc.Error'> returned a result with an exception set"
     ]
    }
   ],
   "source": [
    "import pyodbc\n",
    "import pandas as pd\n",
    "\n",
    "# Se connecter à la base de données Azure SQL\n",
    "connection = pyodbc.connect(\n",
    "    'DRIVER={ODBC Driver 18 for SQL Server};'\n",
    "    'SERVER=projet-affluence-cinema-mlrecap.database.windows.net;'\n",
    "    'DATABASE=BDD_boxoffice;'\n",
    "    'UID=project_affluence_cinema;'\n",
    "    'PWD=*Boxoffice1;'\n",
    ")\n",
    "\n",
    "# Exécuter la requête SQL\n",
    "query = \"SELECT TOP 5 id, titre, nbre_entrees FROM [dbo].[bdd_model_ML_cat]\"\n",
    "data_frame = pd.read_sql_query(query, connection)\n",
    "\n",
    "# Fermer la connexion\n",
    "connection.close()"
   ]
  },
  {
   "cell_type": "code",
   "execution_count": null,
   "metadata": {},
   "outputs": [],
   "source": [
    "import pyodbc\n",
    "import re\n",
    "import os\n",
    "from dotenv import load_dotenv\n",
    "load_dotenv()\n",
    "from datetime import datetime\n",
    "\n",
    "server='rg-devries-serveur.database.windows.net'\n",
    "database='luminosite-devries'\n",
    "username = 'manu21'\n",
    "password = '*Servor1'\n",
    "driver = 'ODBC Driver 18 for SQL Server'\n",
    "print(password)\n",
    "print(server)\n",
    "print(database)\n",
    "print(driver)\n",
    "conn_str = f'DRIVER={driver};SERVER={server};DATABASE={database};UID={username};PWD={password}'\n",
    "conn = pyodbc.connect(conn_str)\n",
    "cursor = conn.cursor()"
   ]
  }
 ],
 "metadata": {
  "kernelspec": {
   "display_name": "bdd",
   "language": "python",
   "name": "python3"
  },
  "language_info": {
   "codemirror_mode": {
    "name": "ipython",
    "version": 3
   },
   "file_extension": ".py",
   "mimetype": "text/x-python",
   "name": "python",
   "nbconvert_exporter": "python",
   "pygments_lexer": "ipython3",
   "version": "3.10.12"
  }
 },
 "nbformat": 4,
 "nbformat_minor": 2
}
